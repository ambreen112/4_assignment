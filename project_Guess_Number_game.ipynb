{
  "nbformat": 4,
  "nbformat_minor": 0,
  "metadata": {
    "colab": {
      "provenance": [],
      "authorship_tag": "ABX9TyNv93KJviHzJraN88R1FzWY",
      "include_colab_link": true
    },
    "kernelspec": {
      "name": "python3",
      "display_name": "Python 3"
    },
    "language_info": {
      "name": "python"
    }
  },
  "cells": [
    {
      "cell_type": "markdown",
      "metadata": {
        "id": "view-in-github",
        "colab_type": "text"
      },
      "source": [
        "<a href=\"https://colab.research.google.com/github/ambreen112/4_assignment/blob/main/project_Guess_Number_game.ipynb\" target=\"_parent\"><img src=\"https://colab.research.google.com/assets/colab-badge.svg\" alt=\"Open In Colab\"/></a>"
      ]
    },
    {
      "cell_type": "code",
      "source": [
        "import random\n",
        "\n",
        "def guess(x):\n",
        "    random_number = random.randint(1, x)\n",
        "    guess = 0\n",
        "    while guess != random_number:\n",
        "        guess = int(input(f'Guess a number between 1 and {x}: '))\n",
        "        if guess < random_number:\n",
        "            print('Sorry, guess again. Too low.')\n",
        "        elif guess > random_number:\n",
        "            print('Sorry, guess again. Too high.')\n",
        "\n",
        "    print(f'Yay, congrats. You have guessed the number {random_number} correctly!')\n",
        "\n",
        "# Run the function\n",
        "guess(10)\n"
      ],
      "metadata": {
        "colab": {
          "base_uri": "https://localhost:8080/"
        },
        "id": "UOtNll6ERfdg",
        "outputId": "fbcc4ce2-ce5b-4063-8286-b8d36e114835"
      },
      "execution_count": 5,
      "outputs": [
        {
          "output_type": "stream",
          "name": "stdout",
          "text": [
            "Guess a number between 1 and 10: 1\n",
            "Sorry, guess again. Too low.\n",
            "Guess a number between 1 and 10: 5\n",
            "Sorry, guess again. Too low.\n",
            "Guess a number between 1 and 10: 6\n",
            "Sorry, guess again. Too low.\n",
            "Guess a number between 1 and 10: 8\n",
            "Sorry, guess again. Too low.\n",
            "Guess a number between 1 and 10: 10\n",
            "Sorry, guess again. Too high.\n",
            "Guess a number between 1 and 10: 9\n",
            "Yay, congrats. You have guessed the number 9 correctly!\n"
          ]
        }
      ]
    }
  ]
}