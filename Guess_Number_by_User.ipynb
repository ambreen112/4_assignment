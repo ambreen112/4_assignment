{
  "nbformat": 4,
  "nbformat_minor": 0,
  "metadata": {
    "colab": {
      "provenance": [],
      "authorship_tag": "ABX9TyM8c2xzbpQofU9P0qbVMSUp",
      "include_colab_link": true
    },
    "kernelspec": {
      "name": "python3",
      "display_name": "Python 3"
    },
    "language_info": {
      "name": "python"
    }
  },
  "cells": [
    {
      "cell_type": "markdown",
      "metadata": {
        "id": "view-in-github",
        "colab_type": "text"
      },
      "source": [
        "<a href=\"https://colab.research.google.com/github/ambreen112/4_assignment/blob/main/Guess_Number_by_User.ipynb\" target=\"_parent\"><img src=\"https://colab.research.google.com/assets/colab-badge.svg\" alt=\"Open In Colab\"/></a>"
      ]
    },
    {
      "cell_type": "code",
      "execution_count": 1,
      "metadata": {
        "colab": {
          "base_uri": "https://localhost:8080/"
        },
        "id": "cxl_YseeL8Nq",
        "outputId": "f1665c85-e585-4092-9e64-457d196cbc2a"
      },
      "outputs": [
        {
          "output_type": "stream",
          "name": "stdout",
          "text": [
            "Think of a number between 1 and 100, and I will try to guess it!\n",
            "Is 83 too high (H), too low (L), or correct (C)? 56\n",
            "Is 53 too high (H), too low (L), or correct (C)? H\n",
            "Is 20 too high (H), too low (L), or correct (C)? C\n",
            "Yay! I guessed your number, 20, correctly!\n"
          ]
        }
      ],
      "source": [
        "import random\n",
        "\n",
        "def computer_guess(x):\n",
        "    low = 1\n",
        "    high = x\n",
        "    feedback = ''\n",
        "\n",
        "    print(f\"Think of a number between 1 and {x}, and I will try to guess it!\")\n",
        "\n",
        "    while feedback != 'c':\n",
        "        if low != high:\n",
        "            guess = random.randint(low, high)\n",
        "        else:\n",
        "            guess = low  # or high, since they are the same\n",
        "\n",
        "        feedback = input(f\"Is {guess} too high (H), too low (L), or correct (C)? \").lower()\n",
        "\n",
        "        if feedback == 'h':\n",
        "            high = guess - 1\n",
        "        elif feedback == 'l':\n",
        "            low = guess + 1\n",
        "\n",
        "    print(f\"Yay! I guessed your number, {guess}, correctly!\")\n",
        "\n",
        "# Run the game\n",
        "computer_guess(100)\n"
      ]
    }
  ]
}