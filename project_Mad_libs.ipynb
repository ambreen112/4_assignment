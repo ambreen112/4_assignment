{
  "nbformat": 4,
  "nbformat_minor": 0,
  "metadata": {
    "colab": {
      "provenance": [],
      "authorship_tag": "ABX9TyN3UnvRTrpfcSS+XwUdsK/c",
      "include_colab_link": true
    },
    "kernelspec": {
      "name": "python3",
      "display_name": "Python 3"
    },
    "language_info": {
      "name": "python"
    }
  },
  "cells": [
    {
      "cell_type": "markdown",
      "metadata": {
        "id": "view-in-github",
        "colab_type": "text"
      },
      "source": [
        "<a href=\"https://colab.research.google.com/github/ambreen112/4_assignment/blob/main/project_Mad_libs.ipynb\" target=\"_parent\"><img src=\"https://colab.research.google.com/assets/colab-badge.svg\" alt=\"Open In Colab\"/></a>"
      ]
    },
    {
      "cell_type": "code",
      "execution_count": null,
      "metadata": {
        "colab": {
          "base_uri": "https://localhost:8080/"
        },
        "id": "zBR6dLrvM5WJ",
        "outputId": "0d2cc6c0-0754-4878-df39-f8978ed70258"
      },
      "outputs": [
        {
          "output_type": "stream",
          "name": "stdout",
          "text": [
            "Enter an adjective: clever\n",
            "Enter an animal: deer\n",
            "Enter a verb: play\n",
            "Enter a place: forest\n",
            "\n",
            "Here's your Mad Libs story:\n",
            "Today, I saw a clever deer who loved to play in forest.\n"
          ]
        }
      ],
      "source": [
        "# Mad Libs Game\n",
        "\n",
        "# Get user input\n",
        "adjective = input(\"Enter an adjective: \")\n",
        "animal = input(\"Enter an animal: \")\n",
        "verb = input(\"Enter a verb: \")\n",
        "place = input(\"Enter a place: \")\n",
        "\n",
        "# Use f-string to create the story\n",
        "story = f\"Today, I saw a {adjective} {animal} who loved to {verb} in {place}.\"\n",
        "\n",
        "# Print the silly story\n",
        "print(\"\\nHere's your Mad Libs story:\")\n",
        "print(story)\n"
      ]
    }
  ]
}