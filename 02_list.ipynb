{
  "nbformat": 4,
  "nbformat_minor": 0,
  "metadata": {
    "colab": {
      "provenance": [],
      "authorship_tag": "ABX9TyNR3AQht/vshrg91ox6MIBQ",
      "include_colab_link": true
    },
    "kernelspec": {
      "name": "python3",
      "display_name": "Python 3"
    },
    "language_info": {
      "name": "python"
    }
  },
  "cells": [
    {
      "cell_type": "markdown",
      "metadata": {
        "id": "view-in-github",
        "colab_type": "text"
      },
      "source": [
        "<a href=\"https://colab.research.google.com/github/ambreen112/4_assignment/blob/main/02_list.ipynb\" target=\"_parent\"><img src=\"https://colab.research.google.com/assets/colab-badge.svg\" alt=\"Open In Colab\"/></a>"
      ]
    },
    {
      "cell_type": "markdown",
      "source": [
        "Write a function that takes a list of numbers and returns the sum of those numbers."
      ],
      "metadata": {
        "id": "n-1WiHxhSlnc"
      }
    },
    {
      "cell_type": "code",
      "source": [
        "def main():\n",
        "  number = [1, 2, 3, 4, 5, 6]\n",
        "  sum_of_numbers = sum(number)\n",
        "  print(sum_of_numbers)\n",
        "main()\n"
      ],
      "metadata": {
        "colab": {
          "base_uri": "https://localhost:8080/"
        },
        "id": "6p8c4OAJSpxE",
        "outputId": "b4bddbab-9d6a-440c-a41a-2a2c3ef6723e"
      },
      "execution_count": 5,
      "outputs": [
        {
          "output_type": "stream",
          "name": "stdout",
          "text": [
            "21\n"
          ]
        }
      ]
    },
    {
      "cell_type": "markdown",
      "source": [
        "Write a program that doubles each element in a list of numbers. For example, if you start with this list:"
      ],
      "metadata": {
        "id": "HC5R_pFdUc6k"
      }
    },
    {
      "cell_type": "code",
      "source": [
        "def main():\n",
        "  numbers = [1, 2, 3, 4, 5]\n",
        "  doubled_number = [num * 2 for num in numbers]\n",
        "  print(doubled_number)\n",
        "main()\n"
      ],
      "metadata": {
        "colab": {
          "base_uri": "https://localhost:8080/"
        },
        "id": "UlFMNCCiUecN",
        "outputId": "41493bce-08ed-4481-ecf9-d137cf2f7c8c"
      },
      "execution_count": 11,
      "outputs": [
        {
          "output_type": "stream",
          "name": "stdout",
          "text": [
            "[2, 4, 6, 8, 10]\n"
          ]
        }
      ]
    },
    {
      "cell_type": "markdown",
      "source": [
        "In the information flow lesson, we discussed using a variable storing a number as an example of scope. We saw that changes we made to the number inside a function did not stay unless we returned it. This is true for what we call immutable data types which include things like numbers and strings."
      ],
      "metadata": {
        "id": "TU7VOhCCaJ4T"
      }
    },
    {
      "cell_type": "code",
      "source": [
        "def add_three_copies(my_list, data):\n",
        "    for i in range(3):\n",
        "        my_list.append(data)\n",
        "\n",
        "\n",
        "def main():\n",
        "    message = input(\"Enter a message to copy: \")\n",
        "    my_list = []\n",
        "    print(\"List before:\", my_list)\n",
        "    add_three_copies(my_list, message)\n",
        "    print(\"List after:\", my_list)\n",
        "\n",
        "if __name__ == \"__main__\":\n",
        "    main()"
      ],
      "metadata": {
        "colab": {
          "base_uri": "https://localhost:8080/"
        },
        "id": "g6Ec5VRPaLhM",
        "outputId": "e45f902f-50ad-42b7-806f-a2c8d588a27a"
      },
      "execution_count": 1,
      "outputs": [
        {
          "output_type": "stream",
          "name": "stdout",
          "text": [
            "Enter a message to copy: where is my books\n",
            "List before: []\n",
            "List after: ['where is my books', 'where is my books', 'where is my books']\n"
          ]
        }
      ]
    },
    {
      "cell_type": "markdown",
      "source": [
        "Fill out the function get_first_element(lst) which takes in a list lst as a parameter and prints the first element in the list. The list is guaranteed to be non-empty. We've written some code for you which prompts the user to input the list one element at a time."
      ],
      "metadata": {
        "id": "Oyu9aYMhal1n"
      }
    },
    {
      "cell_type": "code",
      "source": [
        "def get_first_element(lst):\n",
        "    print(lst[0])  # Print the first element of the list\n",
        "\n",
        "########## No need to edit code past this point\n",
        "\n",
        "def main():\n",
        "    while True:\n",
        "        try:\n",
        "            n = int(input(\"Enter the number of elements in the list: \"))\n",
        "            if n <= 0:\n",
        "                print(\"Please enter a positive number.\")\n",
        "                continue\n",
        "            break\n",
        "        except ValueError:\n",
        "            print(\"Invalid input! Please enter a valid integer.\")\n",
        "\n",
        "    lst = []\n",
        "    for i in range(n):\n",
        "        element = input(f\"Enter element {i+1}: \")\n",
        "        lst.append(element)\n",
        "\n",
        "    print(\"List entered:\", lst)\n",
        "    get_first_element(lst)\n",
        "\n",
        "if __name__ == \"__main__\":\n",
        "    main()\n"
      ],
      "metadata": {
        "colab": {
          "base_uri": "https://localhost:8080/"
        },
        "id": "FQnajtcabdDA",
        "outputId": "bbb36459-0c19-4037-8b5d-1c3feaac1bb1"
      },
      "execution_count": 5,
      "outputs": [
        {
          "output_type": "stream",
          "name": "stdout",
          "text": [
            "Enter the number of elements in the list: 4\n",
            "Enter element 1: 8\n",
            "Enter element 2: 1\n",
            "Enter element 3: 4\n",
            "Enter element 4: 8\n",
            "List entered: ['8', '1', '4', '8']\n",
            "8\n"
          ]
        }
      ]
    },
    {
      "cell_type": "markdown",
      "source": [
        "Fill out the function get_last_element(lst) which takes in a list lst as a parameter and prints the last element in the list. The list is guaranteed to be non-empty, but there are no guarantees on its length."
      ],
      "metadata": {
        "id": "98kzI3DvcWnl"
      }
    },
    {
      "cell_type": "code",
      "source": [
        "def get_last_element(lst):\n",
        "    print(lst[-1])\n",
        "\n",
        "# Example usage:\n",
        "get_last_element([1, 2, 3, 4])\n",
        "get_last_element([\"apple\", \"banana\", \"cherry\"])\n"
      ],
      "metadata": {
        "colab": {
          "base_uri": "https://localhost:8080/"
        },
        "id": "fovJwZ1TcYCL",
        "outputId": "5f2c4ea8-9b3d-4e6b-a020-50d5006ef0fe"
      },
      "execution_count": 6,
      "outputs": [
        {
          "output_type": "stream",
          "name": "stdout",
          "text": [
            "4\n",
            "cherry\n"
          ]
        }
      ]
    },
    {
      "cell_type": "markdown",
      "source": [
        "Write a program which continuously asks the user to enter values which are added one by one into a list. When the user presses enter without typing anything, print the list."
      ],
      "metadata": {
        "id": "2MlaEH6gc4KF"
      }
    },
    {
      "cell_type": "code",
      "source": [
        "def collect_inputs():\n",
        "    values = []\n",
        "    while True:\n",
        "        user_input = input(\"Enter a value (press Enter to stop): \")\n",
        "        if user_input == \"\":\n",
        "            break\n",
        "        values.append(user_input)\n",
        "\n",
        "    print(\"Final list:\", values)\n",
        "\n",
        "# Run the function\n",
        "collect_inputs()\n"
      ],
      "metadata": {
        "colab": {
          "base_uri": "https://localhost:8080/"
        },
        "id": "1UAuENFfc5NA",
        "outputId": "e624aefc-4b7c-4ca6-8129-45ac4bb4dbd3"
      },
      "execution_count": 7,
      "outputs": [
        {
          "output_type": "stream",
          "name": "stdout",
          "text": [
            "Enter a value (press Enter to stop): 5\n",
            "Enter a value (press Enter to stop): \n",
            "Final list: ['5']\n"
          ]
        }
      ]
    },
    {
      "cell_type": "markdown",
      "source": [
        "Fill out the function shorten(lst) which removes elements from the end of lst, which is a list, and prints each item it removes until lst is MAX_LENGTH items long. If lst is already shorter than MAX_LENGTH you should leave it unchanged. We've written a main() function for you which gets a list and passes it into your function once you run the program. For the autograder to pass you will need MAX_LENGTH to be 3, but feel free to change it around to test your program."
      ],
      "metadata": {
        "id": "kYOANRY6dF_P"
      }
    },
    {
      "cell_type": "code",
      "source": [
        "MAX_LENGTH = 4\n",
        "def shorten(lst):\n",
        "    while len(lst) > MAX_LENGTH:\n",
        "        removed_item = lst.pop()\n",
        "        print(removed_item)\n",
        "\n",
        "# Example main function to test the program\n",
        "def main():\n",
        "    test_list = [1, 2, 3, 4, 5]\n",
        "    shorten(test_list)\n",
        "    print(\"Final list:\", test_list)\n",
        "\n",
        "\n",
        "main()\n"
      ],
      "metadata": {
        "colab": {
          "base_uri": "https://localhost:8080/"
        },
        "id": "zhPJKCf-dSIY",
        "outputId": "d4ff4730-5cbf-4aa2-b4c7-aacb769154f5"
      },
      "execution_count": 9,
      "outputs": [
        {
          "output_type": "stream",
          "name": "stdout",
          "text": [
            "5\n",
            "Final list: [1, 2, 3, 4]\n"
          ]
        }
      ]
    }
  ]
}