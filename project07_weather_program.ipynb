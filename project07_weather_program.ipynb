{
  "nbformat": 4,
  "nbformat_minor": 0,
  "metadata": {
    "colab": {
      "provenance": [],
      "authorship_tag": "ABX9TyPARuKQ6kppY9Tywl/7Y4Z9",
      "include_colab_link": true
    },
    "kernelspec": {
      "name": "python3",
      "display_name": "Python 3"
    },
    "language_info": {
      "name": "python"
    }
  },
  "cells": [
    {
      "cell_type": "markdown",
      "metadata": {
        "id": "view-in-github",
        "colab_type": "text"
      },
      "source": [
        "<a href=\"https://colab.research.google.com/github/ambreen112/4_assignment/blob/main/project07_weather_program.ipynb\" target=\"_parent\"><img src=\"https://colab.research.google.com/assets/colab-badge.svg\" alt=\"Open In Colab\"/></a>"
      ]
    },
    {
      "cell_type": "code",
      "execution_count": 14,
      "metadata": {
        "colab": {
          "base_uri": "https://localhost:8080/"
        },
        "id": "5i8C7H6MB7TZ",
        "outputId": "e4fb7d0b-fd2a-44dc-ee78-3ab973bb1bdd"
      },
      "outputs": [
        {
          "output_type": "stream",
          "name": "stdout",
          "text": [
            "Enter your city name: karachi\n",
            "{'base': 'stations',\n",
            " 'clouds': {'all': 0},\n",
            " 'cod': 200,\n",
            " 'coord': {'lat': 24.9056, 'lon': 67.0822},\n",
            " 'dt': 1744530749,\n",
            " 'id': 1174872,\n",
            " 'main': {'feels_like': 309.67,\n",
            "          'grnd_level': 1007,\n",
            "          'humidity': 32,\n",
            "          'pressure': 1010,\n",
            "          'sea_level': 1010,\n",
            "          'temp': 309.05,\n",
            "          'temp_max': 309.05,\n",
            "          'temp_min': 309.05},\n",
            " 'name': 'Karachi',\n",
            " 'sys': {'country': 'PK',\n",
            "         'id': 7576,\n",
            "         'sunrise': 1744506680,\n",
            "         'sunset': 1744552360,\n",
            "         'type': 1},\n",
            " 'timezone': 18000,\n",
            " 'visibility': 6000,\n",
            " 'weather': [{'description': 'clear sky',\n",
            "              'icon': '01d',\n",
            "              'id': 800,\n",
            "              'main': 'Clear'}],\n",
            " 'wind': {'deg': 250, 'speed': 7.72}}\n"
          ]
        }
      ],
      "source": [
        "import requests\n",
        "from pprint import pprint\n",
        "API_key = ''\n",
        "city = input(\"Enter your city name: \")\n",
        "base_url = \"https://api.openweathermap.org/data/2.5/weather?q=\" + city + \"&appid=\" + API_key\n",
        "response = requests.get(base_url)\n",
        "weather_data= response.json()\n",
        "pprint(weather_data)"
      ]
    }
  ]
}