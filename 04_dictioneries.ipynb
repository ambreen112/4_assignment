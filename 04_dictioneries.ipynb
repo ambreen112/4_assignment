{
  "nbformat": 4,
  "nbformat_minor": 0,
  "metadata": {
    "colab": {
      "provenance": [],
      "authorship_tag": "ABX9TyMYcegsQQYWca8/hKZ5aQSJ",
      "include_colab_link": true
    },
    "kernelspec": {
      "name": "python3",
      "display_name": "Python 3"
    },
    "language_info": {
      "name": "python"
    }
  },
  "cells": [
    {
      "cell_type": "markdown",
      "metadata": {
        "id": "view-in-github",
        "colab_type": "text"
      },
      "source": [
        "<a href=\"https://colab.research.google.com/github/ambreen112/4_assignment/blob/main/04_dictioneries.ipynb\" target=\"_parent\"><img src=\"https://colab.research.google.com/assets/colab-badge.svg\" alt=\"Open In Colab\"/></a>"
      ]
    },
    {
      "cell_type": "markdown",
      "source": [
        "This program counts the number of times each number appears in a list. It uses a dictionary to keep track of the information.\n",
        "\n",
        "An example run of the program looks like this (user input is in blue):\n",
        "\n",
        "Enter a number: 3 Enter a number: 4 Enter a number: 3 Enter a number: 6 Enter a number: 4 Enter a number: 3 Enter a number: 12 Enter a number: 3 appears 3 times. 4 appears 2 times. 6 appears 1 times. 12 appears 1 times."
      ],
      "metadata": {
        "id": "kY-P8qtOOL9x"
      }
    },
    {
      "cell_type": "code",
      "source": [
        "def count_numbers():\n",
        "    number_counts = {}\n",
        "\n",
        "    while True:\n",
        "        user_input = input(\"Enter a number (or 'q' to quit): \")\n",
        "        if user_input.lower() == 'q':\n",
        "            break\n",
        "        try:\n",
        "            number = int(user_input)\n",
        "            if number in number_counts:\n",
        "                number_counts[number] += 1\n",
        "            else:\n",
        "                number_counts[number] = 1\n",
        "        except ValueError:\n",
        "            print(\"Please enter a valid number.\")\n",
        "\n",
        "    print(\"\\nNumber occurrences:\")\n",
        "    for number, count in sorted(number_counts.items()):\n",
        "        print(f\"{number} appears {count} times.\")\n",
        "\n",
        "count_numbers()\n"
      ],
      "metadata": {
        "colab": {
          "base_uri": "https://localhost:8080/"
        },
        "id": "OJuHieoJOPF2",
        "outputId": "31449305-0dcb-45a0-e6e4-7c91ab792db8"
      },
      "execution_count": 2,
      "outputs": [
        {
          "output_type": "stream",
          "name": "stdout",
          "text": [
            "Enter a number (or 'q' to quit): h\n",
            "Please enter a valid number.\n",
            "Enter a number (or 'q' to quit): 5\n",
            "Enter a number (or 'q' to quit): 0\n",
            "Enter a number (or 'q' to quit): k\n",
            "Please enter a valid number.\n",
            "Enter a number (or 'q' to quit): q\n",
            "\n",
            "Number occurrences:\n",
            "0 appears 1 times.\n",
            "5 appears 1 times.\n"
          ]
        }
      ]
    },
    {
      "cell_type": "markdown",
      "source": [
        "In this program we show an example of using dictionaries to keep track of information in a phonebook."
      ],
      "metadata": {
        "id": "9lI156XGO31w"
      }
    },
    {
      "cell_type": "code",
      "source": [
        "# Step 1: Create an empty dictionary to store contacts\n",
        "phonebook = {}\n",
        "\n",
        "while True:\n",
        "    # Step 2: Ask the user for an action\n",
        "    action = input(\"Enter 'add' to add a contact, 'view' to see the phonebook, or 'q' to quit: \").lower()\n",
        "\n",
        "    if action == 'add':\n",
        "        # Step 3: Ask for name and phone number\n",
        "        name = input(\"Enter contact name: \")\n",
        "        phone = input(\"Enter phone number: \")\n",
        "\n",
        "        # Step 4: Store them in the dictionary\n",
        "        phonebook[name] = phone\n",
        "        print(f\"{name} has been added to the phonebook.\\n\")\n",
        "\n",
        "    elif action == 'view':\n",
        "        # Step 5: Display all contacts\n",
        "        print(\"\\nPhonebook:\")\n",
        "        for name, phone in phonebook.items():\n",
        "            print(f\"{name}: {phone}\")\n",
        "        print()  # Empty line for better readability\n",
        "\n",
        "    elif action == 'q':\n",
        "        # Step 6: Exit the program\n",
        "        print(\"Exiting phonebook. Goodbye!\")\n",
        "        break\n",
        "\n",
        "    else:\n",
        "        # Step 7: Handle invalid input\n",
        "        print(\"Invalid choice, please enter 'add', 'view', or 'q'.\\n\")\n"
      ],
      "metadata": {
        "colab": {
          "base_uri": "https://localhost:8080/"
        },
        "id": "MaYpht30PPhG",
        "outputId": "3c9aaa27-f0c0-407b-d092-87931e8b403f"
      },
      "execution_count": 4,
      "outputs": [
        {
          "output_type": "stream",
          "name": "stdout",
          "text": [
            "Enter 'add' to add a contact, 'view' to see the phonebook, or 'q' to quit: add\n",
            "Enter contact name: sana\n",
            "Enter phone number: 45321809\n",
            "sana has been added to the phonebook.\n",
            "\n",
            "Enter 'add' to add a contact, 'view' to see the phonebook, or 'q' to quit: view\n",
            "\n",
            "Phonebook:\n",
            "sana: 45321809\n",
            "\n",
            "Enter 'add' to add a contact, 'view' to see the phonebook, or 'q' to quit: q\n",
            "Exiting phonebook. Goodbye!\n"
          ]
        }
      ]
    },
    {
      "cell_type": "markdown",
      "source": [
        "There's a small fruit shop nearby your house that you like to buy from. Since you buy several fruit at a time, you want to keep track of how much the fruit will cost before you go. Luckily you wrote down what fruits were available and how much one of each fruit costs.\n",
        "\n",
        "Write a program that loops through a dictionary of fruits, prompting the user to see how many of each fruit they want to buy, and then prints out the total combined cost of all of the fruits."
      ],
      "metadata": {
        "id": "fp-PWSPZPlw-"
      }
    },
    {
      "cell_type": "code",
      "source": [
        "# Step 1: Create a dictionary with fruit prices\n",
        "fruit_prices = {\n",
        "    \"apple\": 2.0,\n",
        "    \"banana\": 1.5,\n",
        "    \"orange\": 2.5,\n",
        "    \"grapes\": 3.0,\n",
        "    \"mango\": 4.0\n",
        "}\n",
        "\n",
        "# Step 2: Initialize total cost\n",
        "total_cost = 0.0\n",
        "\n",
        "# Step 3: Loop through each fruit in the dictionary\n",
        "for fruit, price in fruit_prices.items():\n",
        "    while True:\n",
        "        try:\n",
        "            # Step 4: Ask the user how many of this fruit they want\n",
        "            quantity = int(input(f\"How many {fruit}s do you want to buy? \"))\n",
        "\n",
        "            # Step 5: Calculate the cost and add to total\n",
        "            total_cost += quantity * price\n",
        "            break  # Exit loop if input is valid\n",
        "        except ValueError:\n",
        "            print(\"Invalid input! Please enter a number.\")\n",
        "\n",
        "# Step 6: Print the total cost\n",
        "print(f\"\\nTotal cost of your fruits: ${total_cost:.2f}\")\n"
      ],
      "metadata": {
        "colab": {
          "base_uri": "https://localhost:8080/"
        },
        "id": "ymT5p1KPQCbz",
        "outputId": "08c3dfbb-3295-4750-aeda-958bf0721e1b"
      },
      "execution_count": 5,
      "outputs": [
        {
          "output_type": "stream",
          "name": "stdout",
          "text": [
            "How many apples do you want to buy? 2\n",
            "How many bananas do you want to buy? 4\n",
            "How many oranges do you want to buy? 5\n",
            "How many grapess do you want to buy? 9\n",
            "How many mangos do you want to buy? 3\n",
            "\n",
            "Total cost of your fruits: $61.50\n"
          ]
        }
      ]
    },
    {
      "cell_type": "markdown",
      "source": [
        "ou want to be safe online and use different passwords for different websites. However, you are forgetful at times and want to make a program that can match which password belongs to which website without storing the actual password!\n",
        "\n",
        "This can be done via something called hashing. Hashing is when we take something and convert it into a different, unique identifier. This is done using a hash function. Luckily, there are several resources that can help us with this.\n",
        "\n",
        "For example, using a hash function called SHA256(...) something as simple as"
      ],
      "metadata": {
        "id": "h20G1szpQ3k9"
      }
    },
    {
      "cell_type": "code",
      "source": [
        "import hashlib\n",
        "\n",
        "# Step 1: Create an empty dictionary to store hashed passwords\n",
        "password_manager = {}\n",
        "\n",
        "# Step 2: Function to hash passwords using SHA-256\n",
        "def hash_password(password):\n",
        "    return hashlib.sha256(password.encode()).hexdigest()\n",
        "\n",
        "# Step 3: Main loop for user input\n",
        "while True:\n",
        "    action = input(\"\\nEnter 'add' to store a password, 'view' to check a password, or 'q' to quit: \").lower()\n",
        "\n",
        "    if action == 'add':\n",
        "        website = input(\"Enter website name: \")\n",
        "        password = input(\"Enter password: \")\n",
        "\n",
        "        # Step 4: Hash the password and store it\n",
        "        password_manager[website] = hash_password(password)\n",
        "        print(f\"Password for {website} has been securely stored!\\n\")\n",
        "\n",
        "    elif action == 'view':\n",
        "        website = input(\"Enter website name: \")\n",
        "\n",
        "        # Step 5: Check if the website exists\n",
        "        if website in password_manager:\n",
        "            password = input(\"Enter the password to verify: \")\n",
        "\n",
        "            # Step 6: Hash input and compare with stored hash\n",
        "            if password_manager[website] == hash_password(password):\n",
        "                print(\"✅ Password is correct!\")\n",
        "            else:\n",
        "                print(\"❌ Incorrect password!\")\n",
        "        else:\n",
        "            print(\"⚠️ No password stored for this website!\")\n",
        "\n",
        "    elif action == 'q':\n",
        "        print(\"Exiting password manager. Stay safe online! 😊\")\n",
        "        break\n",
        "\n",
        "    else:\n",
        "        print(\"Invalid option. Please enter 'add', 'view', or 'q'.\")\n"
      ],
      "metadata": {
        "colab": {
          "base_uri": "https://localhost:8080/"
        },
        "id": "iw340NduQ4zW",
        "outputId": "dc97f74a-cfe3-4b13-f12a-308c0d812c33"
      },
      "execution_count": 6,
      "outputs": [
        {
          "output_type": "stream",
          "name": "stdout",
          "text": [
            "\n",
            "Enter 'add' to store a password, 'view' to check a password, or 'q' to quit: add\n",
            "Enter website name: sanasafinaz\n",
            "Enter password: 2341\n",
            "Password for sanasafinaz has been securely stored!\n",
            "\n",
            "\n",
            "Enter 'add' to store a password, 'view' to check a password, or 'q' to quit: q\n",
            "Exiting password manager. Stay safe online! 😊\n"
          ]
        }
      ]
    }
  ]
}