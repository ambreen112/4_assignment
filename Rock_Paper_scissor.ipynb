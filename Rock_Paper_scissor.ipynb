{
  "nbformat": 4,
  "nbformat_minor": 0,
  "metadata": {
    "colab": {
      "provenance": [],
      "authorship_tag": "ABX9TyMCZFfomSl0g7ELU0SCoGJk",
      "include_colab_link": true
    },
    "kernelspec": {
      "name": "python3",
      "display_name": "Python 3"
    },
    "language_info": {
      "name": "python"
    }
  },
  "cells": [
    {
      "cell_type": "markdown",
      "metadata": {
        "id": "view-in-github",
        "colab_type": "text"
      },
      "source": [
        "<a href=\"https://colab.research.google.com/github/ambreen112/4_assignment/blob/main/Rock_Paper_scissor.ipynb\" target=\"_parent\"><img src=\"https://colab.research.google.com/assets/colab-badge.svg\" alt=\"Open In Colab\"/></a>"
      ]
    },
    {
      "cell_type": "code",
      "execution_count": 3,
      "metadata": {
        "colab": {
          "base_uri": "https://localhost:8080/"
        },
        "id": "L1-qp2-XNaii",
        "outputId": "fa4d77bb-dd8a-4823-acb3-e2fec823d4a7"
      },
      "outputs": [
        {
          "output_type": "stream",
          "name": "stdout",
          "text": [
            "Choose rock, paper, or scissors: rock\n",
            "\n",
            "You chose: rock\n",
            "Computer chose: paper\n",
            "You lost!\n"
          ]
        }
      ],
      "source": [
        "import random\n",
        "\n",
        "def play():\n",
        "    user = input(\"Choose rock, paper, or scissors: \").lower()\n",
        "    computer = random.choice(['rock', 'paper', 'scissors'])\n",
        "\n",
        "    print(f\"\\nYou chose: {user}\")\n",
        "    print(f\"Computer chose: {computer}\")\n",
        "\n",
        "    if user == computer:\n",
        "        return \"It's a tie!\"\n",
        "\n",
        "    if is_win(user, computer):\n",
        "        return \"You won!\"\n",
        "\n",
        "    return \"You lost!\"\n",
        "\n",
        "def is_win(player, opponent):\n",
        "    # Return True if player beats opponent\n",
        "    return (\n",
        "        (player == 'rock' and opponent == 'scissors') or\n",
        "        (player == 'scissors' and opponent == 'paper') or\n",
        "        (player == 'paper' and opponent == 'rock')\n",
        "    )\n",
        "\n",
        "# Run the game\n",
        "print(play())\n"
      ]
    }
  ]
}