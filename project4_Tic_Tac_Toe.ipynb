{
  "nbformat": 4,
  "nbformat_minor": 0,
  "metadata": {
    "colab": {
      "provenance": [],
      "authorship_tag": "ABX9TyMXGSg2HSmGnNKq6xAS4m7y",
      "include_colab_link": true
    },
    "kernelspec": {
      "name": "python3",
      "display_name": "Python 3"
    },
    "language_info": {
      "name": "python"
    }
  },
  "cells": [
    {
      "cell_type": "markdown",
      "metadata": {
        "id": "view-in-github",
        "colab_type": "text"
      },
      "source": [
        "<a href=\"https://colab.research.google.com/github/ambreen112/4_assignment/blob/main/project4_Tic_Tac_Toe.ipynb\" target=\"_parent\"><img src=\"https://colab.research.google.com/assets/colab-badge.svg\" alt=\"Open In Colab\"/></a>"
      ]
    },
    {
      "cell_type": "code",
      "source": [
        "def print_board(board):\n",
        "    for row in board:\n",
        "        print(\" | \".join(row))\n",
        "        print(\"-\" * 9)\n",
        "\n",
        "def check_winner(board):\n",
        "    # Check rows, columns, and diagonals\n",
        "    for i in range(3):\n",
        "        if board[i][0] == board[i][1] == board[i][2] != \" \":\n",
        "            return board[i][0]  # Row winner\n",
        "        if board[0][i] == board[1][i] == board[2][i] != \" \":\n",
        "            return board[0][i]  # Column winner\n",
        "\n",
        "    if board[0][0] == board[1][1] == board[2][2] != \" \":\n",
        "        return board[0][0]  # Main diagonal winner\n",
        "    if board[0][2] == board[1][1] == board[2][0] != \" \":\n",
        "        return board[0][2]  # Anti-diagonal winner\n",
        "\n",
        "    return None  # No winner yet\n",
        "\n",
        "def is_draw(board):\n",
        "    return all(cell != \" \" for row in board for cell in row)\n",
        "\n",
        "def tic_tac_toe():\n",
        "    board = [[\" \" for _ in range(3)] for _ in range(3)]\n",
        "    players = [\"X\", \"O\"]\n",
        "    turn = 0\n",
        "\n",
        "    while True:\n",
        "        print_board(board)\n",
        "        print(f\"Player {players[turn % 2]}'s turn\")\n",
        "\n",
        "        try:\n",
        "            row, col = map(int, input(\"Enter row and column (0-2, space-separated): \").split())\n",
        "            if board[row][col] == \" \":\n",
        "                board[row][col] = players[turn % 2]\n",
        "            else:\n",
        "                print(\"Cell is already occupied! Try again.\")\n",
        "                continue\n",
        "        except (ValueError, IndexError):\n",
        "            print(\"Invalid input! Enter numbers between 0 and 2.\")\n",
        "            continue\n",
        "\n",
        "        winner = check_winner(board)\n",
        "        if winner:\n",
        "            print_board(board)\n",
        "            print(f\"Player {winner} wins!\")\n",
        "            break\n",
        "\n",
        "        if is_draw(board):\n",
        "            print_board(board)\n",
        "            print(\"It's a draw!\")\n",
        "            break\n",
        "\n",
        "        turn += 1\n",
        "\n",
        "if __name__ == \"__main__\":\n",
        "    tic_tac_toe()\n"
      ],
      "metadata": {
        "id": "ituAQ4qyTb72"
      },
      "execution_count": null,
      "outputs": []
    }
  ]
}