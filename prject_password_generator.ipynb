{
  "nbformat": 4,
  "nbformat_minor": 0,
  "metadata": {
    "colab": {
      "provenance": [],
      "authorship_tag": "ABX9TyOWhmnXdpCSdNexTFdb8qfo",
      "include_colab_link": true
    },
    "kernelspec": {
      "name": "python3",
      "display_name": "Python 3"
    },
    "language_info": {
      "name": "python"
    }
  },
  "cells": [
    {
      "cell_type": "markdown",
      "metadata": {
        "id": "view-in-github",
        "colab_type": "text"
      },
      "source": [
        "<a href=\"https://colab.research.google.com/github/ambreen112/4_assignment/blob/main/prject_password_generator.ipynb\" target=\"_parent\"><img src=\"https://colab.research.google.com/assets/colab-badge.svg\" alt=\"Open In Colab\"/></a>"
      ]
    },
    {
      "cell_type": "code",
      "source": [
        "import random\n",
        "import string\n",
        "\n",
        "# Get user input\n",
        "num_passwords = int(input(\"How many passwords do you want to generate? \"))\n",
        "length = int(input(\"Enter the length of each password: \"))\n",
        "\n",
        "# Characters to use in password\n",
        "characters = string.ascii_letters + string.digits + string.punctuation\n",
        "\n",
        "print(\"\\nGenerated Passwords:\")\n",
        "for _ in range(num_passwords):\n",
        "    password = ''.join(random.choice(characters) for _ in range(length))\n",
        "    print(password)\n"
      ],
      "metadata": {
        "colab": {
          "base_uri": "https://localhost:8080/"
        },
        "id": "RRRrYVucYSRl",
        "outputId": "c963e058-1bfc-458a-e6b4-8525882d2bac"
      },
      "execution_count": 9,
      "outputs": [
        {
          "output_type": "stream",
          "name": "stdout",
          "text": [
            "How many passwords do you want to generate? 1\n",
            "Enter the length of each password: 8\n",
            "\n",
            "Generated Passwords:\n",
            "i<6Fr}hd\n"
          ]
        }
      ]
    }
  ]
}