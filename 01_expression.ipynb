{
  "nbformat": 4,
  "nbformat_minor": 0,
  "metadata": {
    "colab": {
      "provenance": [],
      "authorship_tag": "ABX9TyNqSo1CWfD6D6zFZuPOPK/6",
      "include_colab_link": true
    },
    "kernelspec": {
      "name": "python3",
      "display_name": "Python 3"
    },
    "language_info": {
      "name": "python"
    }
  },
  "cells": [
    {
      "cell_type": "markdown",
      "metadata": {
        "id": "view-in-github",
        "colab_type": "text"
      },
      "source": [
        "<a href=\"https://colab.research.google.com/github/ambreen112/4_assignment/blob/main/01_expression.ipynb\" target=\"_parent\"><img src=\"https://colab.research.google.com/assets/colab-badge.svg\" alt=\"Open In Colab\"/></a>"
      ]
    },
    {
      "cell_type": "markdown",
      "source": [
        "Simulate rolling two dice, three times. Prints the results of each die roll. This program is used to show how variable scope works."
      ],
      "metadata": {
        "id": "ePOMaNGfIoJy"
      }
    },
    {
      "cell_type": "code",
      "source": [
        "import random\n",
        "\n",
        "def roll_dice():\n",
        "    \"\"\"Simulates rolling a six-sided die.\"\"\"\n",
        "    return random.randint(1, 6)\n",
        "\n",
        "def main():\n",
        "    for i in range(1, 4):\n",
        "        die1 = roll_dice()\n",
        "        die2 = roll_dice()\n",
        "\n",
        "        print(f\"Roll {i}: Die 1 = {die1}, Die 2 = {die2}\")\n",
        "\n",
        "if __name__ == '__main__':\n",
        "    main()\n"
      ],
      "metadata": {
        "colab": {
          "base_uri": "https://localhost:8080/"
        },
        "id": "v-yO0WOuJE3u",
        "outputId": "94520598-7cbc-46e5-d16f-cce9f092971e"
      },
      "execution_count": 2,
      "outputs": [
        {
          "output_type": "stream",
          "name": "stdout",
          "text": [
            "Roll 1: Die 1 = 5, Die 2 = 4\n",
            "Roll 2: Die 1 = 5, Die 2 = 1\n",
            "Roll 3: Die 1 = 3, Die 2 = 1\n"
          ]
        }
      ]
    },
    {
      "cell_type": "markdown",
      "source": [
        "Write a program that continually reads in mass from the user and then outputs the equivalent energy using Einstein's mass-energy equivalence formula (E stands for energy, m stands for mass, and C is the speed of light:\n",
        "\n",
        "E = m * c**2"
      ],
      "metadata": {
        "id": "XXgn1hKnJ6D6"
      }
    },
    {
      "cell_type": "code",
      "source": [
        "# Define the speed of light as a constant\n",
        "C: int = 299792458  # The speed of light in m/s\n",
        "\n",
        "def main():\n",
        "    while True:\n",
        "        try:\n",
        "            # Ask the user for mass in kg\n",
        "            mass_in_kg: float = float(input(\"Enter kilos of mass (or a negative number to quit): \"))\n",
        "\n",
        "            # Allow the user to exit\n",
        "            if mass_in_kg < 0:\n",
        "                print(\"Exiting program.\")\n",
        "                break\n",
        "\n",
        "            # Calculate energy using Einstein's formula\n",
        "            energy_in_joules: float = mass_in_kg * (C ** 2)\n",
        "\n",
        "            # Display results\n",
        "            print(\"\\ne = m * C^2...\")\n",
        "            print(f\"m = {mass_in_kg} kg\")\n",
        "            print(f\"C = {C} m/s\")\n",
        "            print(f\"{energy_in_joules:.2e} joules of energy!\\n\")  # Scientific notation for readability\n",
        "\n",
        "        except ValueError:\n",
        "            print(\"Invalid input. Please enter a numeric value.\")\n",
        "\n",
        "# There is no need to edit code beyond this point\n",
        "if __name__ == '__main__':\n",
        "    main()\n"
      ],
      "metadata": {
        "colab": {
          "base_uri": "https://localhost:8080/"
        },
        "id": "YOysPGUvJ7Qu",
        "outputId": "659f7f25-545f-4c2b-8fe1-2c280f8f1d1e"
      },
      "execution_count": 3,
      "outputs": [
        {
          "output_type": "stream",
          "name": "stdout",
          "text": [
            "Enter kilos of mass (or a negative number to quit): 2\n",
            "\n",
            "e = m * C^2...\n",
            "m = 2.0 kg\n",
            "C = 299792458 m/s\n",
            "1.80e+17 joules of energy!\n",
            "\n",
            "Enter kilos of mass (or a negative number to quit): 4\n",
            "\n",
            "e = m * C^2...\n",
            "m = 4.0 kg\n",
            "C = 299792458 m/s\n",
            "3.60e+17 joules of energy!\n",
            "\n",
            "Enter kilos of mass (or a negative number to quit): -6\n",
            "Exiting program.\n"
          ]
        }
      ]
    },
    {
      "cell_type": "markdown",
      "source": [
        "Converts feet to inches. Feet is an American unit of measurement. There are 12 inches per foot. Foot is the singular, and feet is the plural."
      ],
      "metadata": {
        "id": "dC1zOEp0KXAJ"
      }
    },
    {
      "cell_type": "code",
      "source": [
        "def main():\n",
        "\n",
        "    feet = float(input(\"Enter the number of feet: \"))\n",
        "    inches = feet * 12\n",
        "    unit = \"foot\" if feet == 1 else \"feet\"\n",
        "    print(f\"{feet} {unit} is equal to {inches} inches.\")\n",
        "\n",
        "\n",
        "if __name__ == '__main__':\n",
        "    main()\n"
      ],
      "metadata": {
        "colab": {
          "base_uri": "https://localhost:8080/"
        },
        "id": "atCWWiudKYbi",
        "outputId": "dceec6a5-892e-41d1-b4c3-445cc4b0f8e8"
      },
      "execution_count": 4,
      "outputs": [
        {
          "output_type": "stream",
          "name": "stdout",
          "text": [
            "Enter the number of feet: 2\n",
            "2.0 feet is equal to 24.0 inches.\n"
          ]
        }
      ]
    },
    {
      "cell_type": "markdown",
      "source": [
        "Write a program that asks the user for the lengths of the two perpendicular sides of a right triangle and outputs the length of the third side (the hypotenuse) using the Pythagorean theorem!"
      ],
      "metadata": {
        "id": "65iEppBwKuIt"
      }
    },
    {
      "cell_type": "code",
      "source": [
        "import math\n",
        "def main():\n",
        "\n",
        "    a = float(input(\"Enter the length of the first perpendicular side: \"))\n",
        "    b = float(input(\"Enter the length of the second perpendicular side: \"))\n",
        "\n",
        "\n",
        "    c = math.sqrt(a ** 2 + b ** 2)\n",
        "\n",
        "    print(f\"The length of the hypotenuse is: {c:.2f}\")\n",
        "\n",
        "if __name__ == '__main__':\n",
        "    main()\n"
      ],
      "metadata": {
        "colab": {
          "base_uri": "https://localhost:8080/"
        },
        "id": "fSy1NbxgLJfa",
        "outputId": "d237e5ab-6298-4776-d8c5-972dda5049a3"
      },
      "execution_count": 5,
      "outputs": [
        {
          "output_type": "stream",
          "name": "stdout",
          "text": [
            "Enter the length of the first perpendicular side: 3\n",
            "Enter the length of the second perpendicular side: 8\n",
            "The length of the hypotenuse is: 8.54\n"
          ]
        }
      ]
    },
    {
      "cell_type": "markdown",
      "source": [
        "Ask the user for two numbers, one at a time, and then print the result of dividing the first number by the second and also the remainder of the division."
      ],
      "metadata": {
        "id": "n8o6tw8OLt7j"
      }
    },
    {
      "cell_type": "code",
      "source": [
        "def main():\n",
        "\n",
        "    num1 = float(input(\"Enter the first number: \"))\n",
        "    num2 = float(input(\"Enter the second number: \"))\n",
        "\n",
        "\n",
        "    if num2 == 0:\n",
        "        print(\"Error: Division by zero is not allowed.\")\n",
        "        return\n",
        "\n",
        "\n",
        "    quotient = num1 / num2\n",
        "    remainder = num1 % num2\n",
        "\n",
        "\n",
        "    print(f\"Quotient: {quotient:.2f}\")\n",
        "    print(f\"Remainder: {remainder:.2f}\")\n",
        "\n",
        "if __name__ == '__main__':\n",
        "    main()\n"
      ],
      "metadata": {
        "colab": {
          "base_uri": "https://localhost:8080/"
        },
        "id": "_ZqSldudLu_f",
        "outputId": "4709493e-80f4-4bba-971e-9659a663f1e8"
      },
      "execution_count": 6,
      "outputs": [
        {
          "output_type": "stream",
          "name": "stdout",
          "text": [
            "Enter the first number: 5\n",
            "Enter the second number: 5\n",
            "Quotient: 1.00\n",
            "Remainder: 0.00\n"
          ]
        }
      ]
    },
    {
      "cell_type": "markdown",
      "source": [
        "Simulate rolling two dice, and prints results of each roll as well as the total."
      ],
      "metadata": {
        "id": "2sKWFf8qL9Iz"
      }
    },
    {
      "cell_type": "code",
      "source": [
        "import random\n",
        "\n",
        "def roll_dice():\n",
        "    \"\"\"Simulates rolling a six-sided die.\"\"\"\n",
        "    return random.randint(1, 6)\n",
        "\n",
        "def main():\n",
        "\n",
        "    die1 = roll_dice()\n",
        "    die2 = roll_dice()\n",
        "\n",
        "\n",
        "    total = die1 + die2\n",
        "\n",
        "    print(f\"Die 1: {die1}\")\n",
        "    print(f\"Die 2: {die2}\")\n",
        "    print(f\"Total: {total}\")\n",
        "\n",
        "# Call the main function\n",
        "if __name__ == '__main__':\n",
        "    main()\n"
      ],
      "metadata": {
        "colab": {
          "base_uri": "https://localhost:8080/"
        },
        "id": "yTH40zkAMB6F",
        "outputId": "c321b682-e9ad-415d-b577-e9ab698adbef"
      },
      "execution_count": 7,
      "outputs": [
        {
          "output_type": "stream",
          "name": "stdout",
          "text": [
            "Die 1: 4\n",
            "Die 2: 5\n",
            "Total: 9\n"
          ]
        }
      ]
    },
    {
      "cell_type": "markdown",
      "source": [
        "Use Python to calculate the number of seconds in a year, and tell the user what the result is in a nice print statement that looks like this (of course the value 5 should be the calculated number instead):\n",
        "\n",
        "There are 5 seconds in a year!\n",
        "\n",
        "You should use constants for this exercise -- there are 365 days in a year, 24 hours in a day, 60 minutes in an hour, and 60 seconds per minute."
      ],
      "metadata": {
        "id": "L3Njb5UNMXPR"
      }
    },
    {
      "cell_type": "code",
      "source": [
        "def main():\n",
        "\n",
        "    DAYS_IN_YEAR = 365\n",
        "    HOURS_IN_DAY = 24\n",
        "    MINUTES_IN_HOUR = 60\n",
        "    SECONDS_IN_MINUTE = 60\n",
        "\n",
        "    seconds_in_year = DAYS_IN_YEAR * HOURS_IN_DAY * MINUTES_IN_HOUR * SECONDS_IN_MINUTE\n",
        "\n",
        "\n",
        "    print(f\"There are {seconds_in_year} seconds in a year!\")\n",
        "if __name__ == '__main__':\n",
        "    main()\n"
      ],
      "metadata": {
        "colab": {
          "base_uri": "https://localhost:8080/"
        },
        "id": "n0GarCU_Md4z",
        "outputId": "3798e23f-9000-4cba-877f-ce98b14d5e44"
      },
      "execution_count": 8,
      "outputs": [
        {
          "output_type": "stream",
          "name": "stdout",
          "text": [
            "There are 31536000 seconds in a year!\n"
          ]
        }
      ]
    },
    {
      "cell_type": "markdown",
      "source": [
        "Write a program which prompts the user for an adjective, then a noun, then a verb, and then prints a fun sentence with those words!"
      ],
      "metadata": {
        "id": "MQYp2YiIM2et"
      }
    },
    {
      "cell_type": "code",
      "source": [
        "def main():\n",
        "\n",
        "    adjective = input(\"Enter an adjective: \")\n",
        "    noun = input(\"Enter a noun: \")\n",
        "    verb = input(\"Enter a verb: \")\n",
        "\n",
        "\n",
        "    print(f\"The {adjective} {noun} decided to {verb} all day long!\")\n",
        "\n",
        "# Call the main function\n",
        "if __name__ == '__main__':\n",
        "    main()\n"
      ],
      "metadata": {
        "colab": {
          "base_uri": "https://localhost:8080/"
        },
        "id": "mG9zk-9qM3t8",
        "outputId": "7432e0cf-e316-4425-d686-384e9094329c"
      },
      "execution_count": 9,
      "outputs": [
        {
          "output_type": "stream",
          "name": "stdout",
          "text": [
            "Enter an adjective: brave\n",
            "Enter a noun: amna\n",
            "Enter a verb: play\n",
            "The brave amna decided to play all day long!\n"
          ]
        }
      ]
    }
  ]
}