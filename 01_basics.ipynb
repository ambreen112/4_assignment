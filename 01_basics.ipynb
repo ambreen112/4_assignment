{
  "nbformat": 4,
  "nbformat_minor": 0,
  "metadata": {
    "colab": {
      "provenance": [],
      "authorship_tag": "ABX9TyMCTwd6YIOF3zQX3yT2iZs8",
      "include_colab_link": true
    },
    "kernelspec": {
      "name": "python3",
      "display_name": "Python 3"
    },
    "language_info": {
      "name": "python"
    }
  },
  "cells": [
    {
      "cell_type": "markdown",
      "metadata": {
        "id": "view-in-github",
        "colab_type": "text"
      },
      "source": [
        "<a href=\"https://colab.research.google.com/github/ambreen112/4_assignment/blob/main/01_basics.ipynb\" target=\"_parent\"><img src=\"https://colab.research.google.com/assets/colab-badge.svg\" alt=\"Open In Colab\"/></a>"
      ]
    },
    {
      "cell_type": "markdown",
      "source": [
        "Write a simple joke bot. The bot starts by asking the user what they want. However, your program will only respond to one response: Joke.\n",
        "\n",
        "If the user enters Joke then we will print out a single joke. Each time the joke is always the same:\n",
        "\n",
        "Here is a joke for you! Panaversity GPT - Sophia is heading out to the grocery store. A programmer tells her: get a liter of milk, and if they have eggs, get 12. Sophia returns with 13 liters of milk. The programmer asks why and Sophia replies: 'because they had eggs'\n",
        "\n",
        "If the user enters anything else we print out:\n",
        "\n",
        "Sorry I only tell jokes\n",
        "\n",
        "You should use the three constants:\n",
        "\n",
        "PROMPT JOKE SORRY\n",
        "\n",
        "which contain the strings for the prompt asked to the user, the joke to print out if the user enters Joke and the sorry message if the user enters anything else.\n",
        "\n",
        "Your program will need to use an if statement which checks if the user input is Joke:\n",
        "\n",
        "if user_input == \"Joke\":\n",
        "\n",
        "Recall that == is a comparison which tests if two values are equal to one another.\n",
        "\n",
        "Here is a full run of the program (user input is in blue):\n",
        "\n",
        "What do you want? Joke Here is a joke for you! Panaversity GPT - Sophia is heading out to the grocery store. A programmer tells her: get a liter of milk, and if they have eggs, get 12. Sophia returns with 13 liters of milk. The programmer asks why and Sophia replies: 'because they had eggs'"
      ],
      "metadata": {
        "id": "YOlKcT8pl9_n"
      }
    },
    {
      "cell_type": "code",
      "source": [
        "PROMPT = \"What do you want? \"\n",
        "JOKE = (\"Here is a joke for you!\\n\"\n",
        "        \"Panaversity GPT - Sophia is heading out to the grocery store. \"\n",
        "        \"A programmer tells her: get a liter of milk, and if they have eggs, get 12. \"\n",
        "        \"Sophia returns with 13 liters of milk. The programmer asks why and Sophia replies: 'because they had eggs'\")\n",
        "SORRY = \"Sorry I only tell jokes\"\n",
        "\n",
        "user_input = input(PROMPT)\n",
        "\n",
        "if user_input == \"Joke\":\n",
        "    print(JOKE)\n",
        "else:\n",
        "    print(SORRY)\n"
      ],
      "metadata": {
        "colab": {
          "base_uri": "https://localhost:8080/"
        },
        "id": "CrBA_j9Ema6R",
        "outputId": "3a9eb30a-806f-4ac3-ea30-a77882df8320"
      },
      "execution_count": 2,
      "outputs": [
        {
          "output_type": "stream",
          "name": "stdout",
          "text": [
            "What do you want? i am reading\n",
            "Sorry I only tell jokes\n"
          ]
        }
      ]
    },
    {
      "cell_type": "markdown",
      "source": [
        "Write a program that asks a user to enter a number. Your program will then double that number and print out the result. It will repeat that process until the value is 100 or greater.\n",
        "\n",
        "For example if the user enters the number 2 you would then print:\n",
        "\n",
        "4 8 16 32 64 128\n",
        "\n",
        "Note that:\n",
        "\n",
        "2 doubled is 4\n",
        "\n",
        "4 doubled is 8\n",
        "\n",
        "8 doubled is 16\n",
        "\n",
        "and so on.\n",
        "\n",
        "We stop at 128 because that value is greater than 100.\n",
        "\n",
        "Maintain the current number in a variable named curr_value. When you double the number, you should be updating curr_value. Recall that you can double the value of curr_value using a line like:\n",
        "\n",
        "curr_value = curr_value * 2\n",
        "\n",
        "This program should have a while loop and the while loop condition should test if curr_value is less than 100. Thus, your program will have the line:\n",
        "\n",
        "while curr_value < 100:"
      ],
      "metadata": {
        "id": "_6AU3ynLm8rI"
      }
    },
    {
      "cell_type": "code",
      "source": [
        "curr_value = int(input(\"Enter a number: \"))\n",
        "\n",
        "while curr_value < 100:\n",
        "    curr_value *= 2\n",
        "    print(curr_value, end=\" \")\n"
      ],
      "metadata": {
        "colab": {
          "base_uri": "https://localhost:8080/"
        },
        "id": "xLIPaxsQm9mp",
        "outputId": "9fba6258-dd12-49da-f21b-f83f026aefee"
      },
      "execution_count": 3,
      "outputs": [
        {
          "output_type": "stream",
          "name": "stdout",
          "text": [
            "Enter a number: 3\n",
            "6 12 24 48 96 192 "
          ]
        }
      ]
    },
    {
      "cell_type": "markdown",
      "source": [
        "Write a program that prints out the calls for a spaceship that is about to launch. Countdown from 10 to 1 and then output Liftoff!\n",
        "\n",
        "Here's a sample run of the program:\n",
        "\n",
        "10 9 8 7 6 5 4 3 2 1 Liftoff!\n",
        "\n",
        "There are many ways to solve this problem. One approach is to use a for loop, and to use the for loop variable i. Recall that i will keep track of how many times the for loop has completed executing its body. As an example this code:\n",
        "\n",
        "for i in range(10): print(i)\n",
        "\n",
        "Will print out the values 0, 1, 2, 3, 4, 5, 6, 7, 8, 9. The values printed in liftoff are 10 minus the number of times the for loop has completed."
      ],
      "metadata": {
        "id": "HmlDeV1QnMVP"
      }
    },
    {
      "cell_type": "code",
      "source": [
        "for i in range(10, 0, -1):\n",
        "    print(i, end=\" \")\n",
        "print(\"Liftoff!\")"
      ],
      "metadata": {
        "colab": {
          "base_uri": "https://localhost:8080/"
        },
        "id": "z1FghXFqnNPf",
        "outputId": "69889d88-7059-42b3-a3dd-a6d0687618bb"
      },
      "execution_count": 4,
      "outputs": [
        {
          "output_type": "stream",
          "name": "stdout",
          "text": [
            "10 9 8 7 6 5 4 3 2 1 Liftoff!\n"
          ]
        }
      ]
    },
    {
      "cell_type": "markdown",
      "source": [
        "Guess My Number\n",
        "\n",
        "I am thinking of a number between 0 and 99... Enter a guess: 50 Your guess is too high\n",
        "\n",
        "Enter a new number: 25 Your guess is too low\n",
        "\n",
        "Enter a new number: 40 Your guess is too low\n",
        "\n",
        "Enter a new number: 45 Your guess is too low\n",
        "\n",
        "Enter a new number: 48 Congrats! The number was: 48"
      ],
      "metadata": {
        "id": "4G1qhFJTnhNI"
      }
    },
    {
      "cell_type": "markdown",
      "source": [
        "Print 10 random numbers in the range 1 to 100.\n",
        "\n",
        "Here is an example run:\n",
        "\n",
        "45 79 61 47 52 10 16 83 19 12\n",
        "\n",
        "Each time you run your program you should get different numbers\n",
        "\n",
        "81 76 70 1 27 63 96 100 32 92\n",
        "\n",
        "Recall that the python random library has a function randint which returns an integer in the range set by the parameters (inclusive). For example this call would produce a random integer between 1 and 6, which could include 1 and could include 6:\n",
        "\n",
        "value = random.randint(1, 6)\n",
        "\n",
        "Starter Code"
      ],
      "metadata": {
        "id": "TWtUPl5BnwjH"
      }
    },
    {
      "cell_type": "code",
      "source": [
        "import random\n",
        "\n",
        "number_to_guess = random.randint(0, 99)\n",
        "guess = int(input(\"I am thinking of a number between 0 and 99... Enter a guess: \"))\n",
        "\n",
        "while guess != number_to_guess:\n",
        "    if guess > number_to_guess:\n",
        "        print(\"Your guess is too high\")\n",
        "    else:\n",
        "        print(\"Your guess is too low\")\n",
        "    guess = int(input(\"Enter a new number: \"))\n",
        "\n",
        "print(f\"Congrats! The number was: {number_to_guess}\")\n"
      ],
      "metadata": {
        "id": "qa5K5pIXoXKP"
      },
      "execution_count": null,
      "outputs": []
    }
  ]
}