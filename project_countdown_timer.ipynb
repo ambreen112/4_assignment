{
  "nbformat": 4,
  "nbformat_minor": 0,
  "metadata": {
    "colab": {
      "provenance": [],
      "authorship_tag": "ABX9TyNq29uJHNnUJ27F1zVJ83sF",
      "include_colab_link": true
    },
    "kernelspec": {
      "name": "python3",
      "display_name": "Python 3"
    },
    "language_info": {
      "name": "python"
    }
  },
  "cells": [
    {
      "cell_type": "markdown",
      "metadata": {
        "id": "view-in-github",
        "colab_type": "text"
      },
      "source": [
        "<a href=\"https://colab.research.google.com/github/ambreen112/4_assignment/blob/main/project_countdown_timer.ipynb\" target=\"_parent\"><img src=\"https://colab.research.google.com/assets/colab-badge.svg\" alt=\"Open In Colab\"/></a>"
      ]
    },
    {
      "cell_type": "code",
      "source": [
        "import time\n",
        "\n",
        "def countdown(t):\n",
        "    while t:\n",
        "        mins, secs = divmod(t, 60)\n",
        "        timer = '{:02d}:{:02d}'.format(mins, secs)  # Format: MM:SS\n",
        "        print(timer, end='\\r')  # Print on the same line\n",
        "        time.sleep(1)\n",
        "        t -= 1\n",
        "\n",
        "    print(\"⏰ Time's up!\")\n",
        "\n",
        "# Example usage:\n",
        "seconds = int(input(\"Enter time in seconds: \"))\n",
        "countdown(seconds)\n"
      ],
      "metadata": {
        "colab": {
          "base_uri": "https://localhost:8080/"
        },
        "id": "RZgX9ntkUsja",
        "outputId": "3e9d548c-5a38-4461-f8ab-547fba77eb29"
      },
      "execution_count": 7,
      "outputs": [
        {
          "output_type": "stream",
          "name": "stdout",
          "text": [
            "Enter time in seconds: 2\n",
            "⏰ Time's up!\n"
          ]
        }
      ]
    }
  ]
}