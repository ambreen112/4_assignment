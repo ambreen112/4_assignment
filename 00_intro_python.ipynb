{
  "nbformat": 4,
  "nbformat_minor": 0,
  "metadata": {
    "colab": {
      "provenance": [],
      "authorship_tag": "ABX9TyMu3xiMjeRzRNUBxJoKd/an",
      "include_colab_link": true
    },
    "kernelspec": {
      "name": "python3",
      "display_name": "Python 3"
    },
    "language_info": {
      "name": "python"
    }
  },
  "cells": [
    {
      "cell_type": "markdown",
      "metadata": {
        "id": "view-in-github",
        "colab_type": "text"
      },
      "source": [
        "<a href=\"https://colab.research.google.com/github/ambreen112/4_assignment/blob/main/00_intro_python.ipynb\" target=\"_parent\"><img src=\"https://colab.research.google.com/assets/colab-badge.svg\" alt=\"Open In Colab\"/></a>"
      ]
    },
    {
      "cell_type": "markdown",
      "source": [
        "01_add_two_numbers.md\n"
      ],
      "metadata": {
        "id": "9YPMyFiiCGBW"
      }
    },
    {
      "cell_type": "code",
      "source": [
        "def main():\n",
        "  print(\"Enter your number for sum\")\n",
        "  #Enter your first number\n",
        "  num1 = int(input(\"Enter your first number: \"))\n",
        "  #Enter your second number\n",
        "  num2 = int(input(\"Enter your second number:\"))\n",
        "  sum_of_result= num1 + num2\n",
        "  print(f\"The sum of {num1} and {num2}  is: \")\n",
        "  print(sum_of_result)\n",
        "main()\n"
      ],
      "metadata": {
        "colab": {
          "base_uri": "https://localhost:8080/"
        },
        "id": "w-B4KztADfAW",
        "outputId": "f9616598-bc10-43d9-df82-69492794be32"
      },
      "execution_count": null,
      "outputs": [
        {
          "output_type": "stream",
          "name": "stdout",
          "text": [
            "Enter your number for sum\n",
            "Enter your first number: 4\n",
            "Enter your second number:3\n",
            "The sum of 4 and 3  is: \n",
            "7\n"
          ]
        }
      ]
    },
    {
      "cell_type": "markdown",
      "source": [
        "Write a program which asks the user what their favorite animal is, and then always responds with \"My favorite animal is also ___!\" (the blank should be filled in with the user-inputted animal, of course)."
      ],
      "metadata": {
        "id": "L3duwk1TEoKV"
      }
    },
    {
      "cell_type": "code",
      "source": [
        "\n",
        "animal = input(\"What's your favorite animal? \")\n",
        "\n",
        "print(f\"My favorite animal is also {animal}!\")\n",
        "\n"
      ],
      "metadata": {
        "colab": {
          "base_uri": "https://localhost:8080/"
        },
        "id": "wMjpkgxzEqAC",
        "outputId": "f0f683ac-ade3-4e79-d978-6740cc8e7e9a"
      },
      "execution_count": 3,
      "outputs": [
        {
          "output_type": "stream",
          "name": "stdout",
          "text": [
            "What's your favorite animal? cow\n",
            "My favorite animal is also cow!\n"
          ]
        }
      ]
    },
    {
      "cell_type": "markdown",
      "source": [
        "Write a program which prompts the user for a temperature in Fahrenheit (this can be a number with decimal places!) and outputs the temperature converted to Celsius."
      ],
      "metadata": {
        "id": "60qqoLX9FWf0"
      }
    },
    {
      "cell_type": "code",
      "source": [
        "def main():\n",
        "\n",
        "    fahrenheit = float(input(\"Enter temperature in Fahrenheit: \"))\n",
        "    celsius = (fahrenheit - 32) * 5 / 9\n",
        "\n",
        "\n",
        "    print(f\"The temperature in Celsius is: {celsius:.2f}\")\n",
        "if __name__ == '__main__':\n",
        "    main()\n"
      ],
      "metadata": {
        "colab": {
          "base_uri": "https://localhost:8080/"
        },
        "id": "pCxPF4fmFh6-",
        "outputId": "0d4a070a-0958-4b6d-e150-e97b94e219e9"
      },
      "execution_count": 4,
      "outputs": [
        {
          "output_type": "stream",
          "name": "stdout",
          "text": [
            "Enter temperature in Fahrenheit: 4\n",
            "The temperature in Celsius is: -15.56\n"
          ]
        }
      ]
    },
    {
      "cell_type": "markdown",
      "source": [
        "Write a program to solve this age-related riddle!\n",
        "\n",
        "Anton, Beth, Chen, Drew, and Ethan are all friends. Their ages are as follows:\n",
        "\n",
        "Anton is 21 years old.\n",
        "\n",
        "Beth is 6 years older than Anton.\n",
        "\n",
        "Chen is 20 years older than Beth.\n",
        "\n",
        "Drew is as old as Chen's age plus Anton's age.\n",
        "\n",
        "Ethan is the same age as Chen."
      ],
      "metadata": {
        "id": "jifLLwLDF1rp"
      }
    },
    {
      "cell_type": "code",
      "source": [
        "def main():\n",
        "    anton: int = 21\n",
        "    beth: int = 6 + anton\n",
        "    chen: int = 20 + beth\n",
        "    drew: int = chen + anton\n",
        "    ethan: int = chen\n",
        "\n",
        "    # Print out all of the ages!\n",
        "    print(\"Anton is \" + str(anton) + \" years old.\")\n",
        "    print(\"Beth is \" + str(beth) + \" years old.\")\n",
        "    print(\"Chen is \" + str(chen) + \" years old.\")\n",
        "    print(\"Drew is \" + str(drew) + \" years old.\")\n",
        "    print(\"Ethan is \" + str(ethan) + \" years old.\")\n",
        "\n",
        "\n",
        "if __name__ == '__main__':\n",
        "    main()\n"
      ],
      "metadata": {
        "colab": {
          "base_uri": "https://localhost:8080/"
        },
        "id": "cvQcMCr-GUsk",
        "outputId": "70b05cca-bf79-4273-fcc9-306993161047"
      },
      "execution_count": 5,
      "outputs": [
        {
          "output_type": "stream",
          "name": "stdout",
          "text": [
            "Anton is 21 years old.\n",
            "Beth is 27 years old.\n",
            "Chen is 47 years old.\n",
            "Drew is 68 years old.\n",
            "Ethan is 47 years old.\n"
          ]
        }
      ]
    },
    {
      "cell_type": "markdown",
      "source": [
        "Prompt the user to enter the lengths of each side of a triangle and then calculate and print the perimeter of the triangle (the sum of all of the side lengths)."
      ],
      "metadata": {
        "id": "EYtlsaZzGnx7"
      }
    },
    {
      "cell_type": "code",
      "source": [
        "def main():\n",
        "\n",
        "    side1: float = float(input(\"What is the length of side 1? \"))\n",
        "    side2: float = float(input(\"What is the length of side 2? \"))\n",
        "    side3: float = float(input(\"What is the length of side 3? \"))\n",
        "\n",
        "\n",
        "    print(\"The perimeter of the triangle is \" + str(side1 + side2 + side3))\n",
        "\n",
        "if __name__ == '__main__':\n",
        "    main()"
      ],
      "metadata": {
        "colab": {
          "base_uri": "https://localhost:8080/"
        },
        "id": "h7x6KMLjG0iM",
        "outputId": "72be1205-7247-4b0f-cce7-9833fbbcc578"
      },
      "execution_count": 6,
      "outputs": [
        {
          "output_type": "stream",
          "name": "stdout",
          "text": [
            "What is the length of side 1? 4\n",
            "What is the length of side 2? 2\n",
            "What is the length of side 3? 1\n",
            "The perimeter of the triangle is 7.0\n"
          ]
        }
      ]
    },
    {
      "cell_type": "markdown",
      "source": [
        "Ask the user for a number and print its square (the product of the number times itself)."
      ],
      "metadata": {
        "id": "1bDU0K6UHIhZ"
      }
    },
    {
      "cell_type": "code",
      "source": [
        "def main():\n",
        "    num: float = float(input(\"Type a number to see its square: \"))\n",
        "    print(str(num) + \" squared is \" + str(num ** 2))\n",
        "\n",
        "\n",
        "\n",
        "if __name__ == '__main__':\n",
        "    main()"
      ],
      "metadata": {
        "colab": {
          "base_uri": "https://localhost:8080/"
        },
        "id": "p7VNoWfYHR2D",
        "outputId": "9f2ef1d8-1163-4fc3-9f5b-9bd576266f70"
      },
      "execution_count": 7,
      "outputs": [
        {
          "output_type": "stream",
          "name": "stdout",
          "text": [
            "Type a number to see its square: 2\n",
            "2.0 squared is 4.0\n"
          ]
        }
      ]
    }
  ]
}