{
  "nbformat": 4,
  "nbformat_minor": 0,
  "metadata": {
    "colab": {
      "provenance": [],
      "authorship_tag": "ABX9TyNt5spvnpr6rvb/N08MZarR",
      "include_colab_link": true
    },
    "kernelspec": {
      "name": "python3",
      "display_name": "Python 3"
    },
    "language_info": {
      "name": "python"
    }
  },
  "cells": [
    {
      "cell_type": "markdown",
      "metadata": {
        "id": "view-in-github",
        "colab_type": "text"
      },
      "source": [
        "<a href=\"https://colab.research.google.com/github/ambreen112/4_assignment/blob/main/project_Hangman_python_project.ipynb\" target=\"_parent\"><img src=\"https://colab.research.google.com/assets/colab-badge.svg\" alt=\"Open In Colab\"/></a>"
      ]
    },
    {
      "cell_type": "code",
      "execution_count": 1,
      "metadata": {
        "colab": {
          "base_uri": "https://localhost:8080/"
        },
        "id": "DSqXr3x5TDW3",
        "outputId": "f672bb3c-0331-4a92-aa05-ec5357d26691"
      },
      "outputs": [
        {
          "output_type": "stream",
          "name": "stdout",
          "text": [
            "_ _ _ _ _ _\n",
            "Guess a letter: b\n",
            "Wrong! You have 5 lives left.\n",
            "_ _ _ _ _ _\n",
            "Guess a letter: p\n",
            "p _ _ _ _ _\n",
            "Guess a letter: y\n",
            "p y _ _ _ _\n",
            "Guess a letter: t\n",
            "p y t _ _ _\n",
            "Guess a letter: h\n",
            "p y t h _ _\n",
            "Guess a letter: o\n",
            "p y t h o _\n",
            "Guess a letter: n\n",
            "p y t h o n\n",
            "Guess a letter: n\n",
            "You already guessed that!\n",
            "p y t h o n\n",
            "Guess a letter: s\n",
            "Wrong! You have 4 lives left.\n",
            "🎉 You won! The word was: python\n"
          ]
        }
      ],
      "source": [
        "import random\n",
        "\n",
        "words = ['banana', 'python', 'science', 'streamlit']\n",
        "word = random.choice(words)\n",
        "guessed_letters = []\n",
        "lives = 6\n",
        "\n",
        "while lives > 0:\n",
        "    display = [letter if letter in guessed_letters else '_' for letter in word]\n",
        "    print(' '.join(display))\n",
        "\n",
        "    guess = input(\"Guess a letter: \").lower()\n",
        "\n",
        "    if guess in guessed_letters:\n",
        "        print(\"You already guessed that!\")\n",
        "        continue\n",
        "\n",
        "    guessed_letters.append(guess)\n",
        "\n",
        "    if guess not in word:\n",
        "        lives -= 1\n",
        "        print(f\"Wrong! You have {lives} lives left.\")\n",
        "\n",
        "    if '_' not in display:\n",
        "        print(f\"🎉 You won! The word was: {word}\")\n",
        "        break\n",
        "else:\n",
        "    print(f\"💀 You lost! The word was: {word}\")\n"
      ]
    }
  ]
}