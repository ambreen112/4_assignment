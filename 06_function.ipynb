{
  "nbformat": 4,
  "nbformat_minor": 0,
  "metadata": {
    "colab": {
      "provenance": [],
      "authorship_tag": "ABX9TyOG+/zkwyfbRU0QGkA7KGeu",
      "include_colab_link": true
    },
    "kernelspec": {
      "name": "python3",
      "display_name": "Python 3"
    },
    "language_info": {
      "name": "python"
    }
  },
  "cells": [
    {
      "cell_type": "markdown",
      "metadata": {
        "id": "view-in-github",
        "colab_type": "text"
      },
      "source": [
        "<a href=\"https://colab.research.google.com/github/ambreen112/4_assignment/blob/main/06_function.ipynb\" target=\"_parent\"><img src=\"https://colab.research.google.com/assets/colab-badge.svg\" alt=\"Open In Colab\"/></a>"
      ]
    },
    {
      "cell_type": "markdown",
      "source": [
        "Write a function that takes two numbers and finds the average between the two."
      ],
      "metadata": {
        "id": "QgPUiQ_AEHKc"
      }
    },
    {
      "cell_type": "code",
      "source": [
        "def find_average(num1, num2):\n",
        "    return (num1 + num2) / 2\n",
        "\n",
        "# Example usage\n",
        "num1 = float(input(\"Enter first number: \"))\n",
        "num2 = float(input(\"Enter second number: \"))\n",
        "print(\"Average:\", find_average(num1, num2))\n"
      ],
      "metadata": {
        "colab": {
          "base_uri": "https://localhost:8080/"
        },
        "id": "_lbhXQ75EPIf",
        "outputId": "9468a0c8-5716-48ce-aef7-21711555a7dd"
      },
      "execution_count": 1,
      "outputs": [
        {
          "output_type": "stream",
          "name": "stdout",
          "text": [
            "Enter first number: 3\n",
            "Enter second number: 4\n",
            "Average: 3.5\n"
          ]
        }
      ]
    },
    {
      "cell_type": "markdown",
      "source": [
        "Fill out the chaotic_counting() function, which prints the numbers from 1 to 10, but with a catch. We've written a done() function which returns True with likelihood DONE_LIKELIHOOD -- at each number, before printing the number, you should call done() and check if it returns True or not. If done() returns True, we're done counting, and you should use a return statement to end the chaotic_counting() function execution and resume execution of main(), which will print \"I'm done.\". We've written main() for you -- check it out! Notice that we'll only print \"I'm done\" from main() once chaotic_counting() is done with its execution.\n",
        "\n",
        "Here's a sample run of this program:\n",
        "\n",
        "I'm going to count until 10 or until I feel like stopping, whichever comes first. 1 2 3 I'm done."
      ],
      "metadata": {
        "id": "tYf91ZdrEbga"
      }
    },
    {
      "cell_type": "code",
      "source": [
        "import random\n",
        "\n",
        "DONE_LIKELIHOOD = 0.3  # Adjust the likelihood of stopping\n",
        "\n",
        "def done():\n",
        "    return random.random() < DONE_LIKELIHOOD\n",
        "\n",
        "def chaotic_counting():\n",
        "    for i in range(1, 11):\n",
        "        if done():\n",
        "            return  # Stop counting if done() returns True\n",
        "        print(i, end=\" \")\n",
        "\n",
        "def main():\n",
        "    print(\"I'm going to count until 10 or until I feel like stopping, whichever comes first.\")\n",
        "    chaotic_counting()\n",
        "    print(\"I'm done.\")\n",
        "\n",
        "if __name__ == \"__main__\":\n",
        "    main()\n"
      ],
      "metadata": {
        "colab": {
          "base_uri": "https://localhost:8080/"
        },
        "id": "rg_z7HN3Eil8",
        "outputId": "c7f12a68-f118-402b-fcf0-a7c31320e79c"
      },
      "execution_count": 2,
      "outputs": [
        {
          "output_type": "stream",
          "name": "stdout",
          "text": [
            "I'm going to count until 10 or until I feel like stopping, whichever comes first.\n",
            "1 2 3 I'm done.\n"
          ]
        }
      ]
    },
    {
      "cell_type": "markdown",
      "source": [
        "Fill out the function count_even(lst) which\n",
        "\n",
        "first populates a list by prompting the user for integers until they press enter (please use the prompt \"Enter an integer or press enter to stop: \"),\n",
        "\n",
        "and then prints the number of even numbers in the list.\n",
        "\n",
        "If you'd prefer to focus on the second task only, scroll down for our implementation of the first task!"
      ],
      "metadata": {
        "id": "dqaZqrBCEx8b"
      }
    },
    {
      "cell_type": "code",
      "source": [
        "def count_even():\n",
        "    numbers = []\n",
        "    while True:\n",
        "        user_input = input(\"Enter an integer or press enter to stop: \")\n",
        "        if user_input == \"\":\n",
        "            break\n",
        "        numbers.append(int(user_input))\n",
        "\n",
        "    even_count = sum(1 for num in numbers if num % 2 == 0)\n",
        "    print(\"Number of even numbers:\", even_count)\n",
        "\n",
        "# Example usage\n",
        "count_even()\n"
      ],
      "metadata": {
        "id": "FB-2hEL1FMD0"
      },
      "execution_count": null,
      "outputs": []
    },
    {
      "cell_type": "markdown",
      "source": [
        "Fill out the double(num) function to return the result of multiplying num by 2. We've written a main() function for you which asks the user for a number, calls your code for double(num) , and prints the result.\n",
        "\n",
        "Here's a sample run of the program (user input in bold italics):\n",
        "\n",
        "Enter a number: 2 Double that is 4"
      ],
      "metadata": {
        "id": "uXyATbW0FNRJ"
      }
    },
    {
      "cell_type": "code",
      "source": [
        "def double(num: int):\n",
        "    return num * 2\n",
        "\n",
        "# There is no need to edit code beyond this point\n",
        "\n",
        "def main():\n",
        "    num = int(input(\"Enter a number: \"))\n",
        "    num_times_2 = double(num)\n",
        "    print(\"Double that is\", num_times_2)\n",
        "\n",
        "if __name__ == '__main__':\n",
        "    main()"
      ],
      "metadata": {
        "colab": {
          "base_uri": "https://localhost:8080/"
        },
        "id": "6g7FJ0qjFV2e",
        "outputId": "a567cbb3-61f3-4692-99e4-f9722baab3ea"
      },
      "execution_count": 6,
      "outputs": [
        {
          "output_type": "stream",
          "name": "stdout",
          "text": [
            "Enter a number: 8\n",
            "Double that is 16\n"
          ]
        }
      ]
    },
    {
      "cell_type": "markdown",
      "source": [
        "Fill out the get_name() function to return your name as a string! We've written a main() function for you which calls your function to retrieve your name and then prints it in a greeting."
      ],
      "metadata": {
        "id": "lgwtX0NOFbUb"
      }
    },
    {
      "cell_type": "code",
      "source": [
        "def get_name():\n",
        "    return \"Ambreen\"\n",
        "\n",
        "# There is no need to edit code beyond this point\n",
        "\n",
        "def main():\n",
        "    name = get_name() # get_name() will return a string which we store to the 'name' variable here\n",
        "    print(\"Howdy\", name, \"! \")\n",
        "\n",
        "if __name__ == '__main__':\n",
        "    main()"
      ],
      "metadata": {
        "colab": {
          "base_uri": "https://localhost:8080/"
        },
        "id": "ANax8RQKFtLz",
        "outputId": "40129108-949d-4eed-ba7f-95d523f5d81e"
      },
      "execution_count": 9,
      "outputs": [
        {
          "output_type": "stream",
          "name": "stdout",
          "text": [
            "Howdy Ambreen ! \n"
          ]
        }
      ]
    },
    {
      "cell_type": "markdown",
      "source": [
        "10 even 11 odd 12 even 13 odd 14 even 15 odd 16 even 17 odd 18 even 19 odd"
      ],
      "metadata": {
        "id": "YZXICYYwF48t"
      }
    },
    {
      "cell_type": "markdown",
      "source": [],
      "metadata": {
        "id": "0b5YHQbRGN94"
      }
    },
    {
      "cell_type": "code",
      "source": [
        "def main():\n",
        "    for i in range(10):\n",
        "        if is_odd(i):\n",
        "            print('odd')\n",
        "        else:\n",
        "            print('even')\n",
        "\n",
        "def is_odd(value: int):\n",
        "    \"\"\"\n",
        "    Checks to see if a value is odd. If it is, returns true.\n",
        "    \"\"\"\n",
        "\n",
        "    remainder = value % 2  # 0 if value is divisible by 2, 1 if it isn't\n",
        "    return remainder == 1\n",
        "\n",
        "\n",
        "# There is no need to edit code beyond this point\n",
        "\n",
        "if __name__ == '__main__':\n",
        "    main()"
      ],
      "metadata": {
        "colab": {
          "base_uri": "https://localhost:8080/"
        },
        "id": "bklshmarF8jW",
        "outputId": "54c73ad6-1b19-4d0d-da43-bc3031ed7430"
      },
      "execution_count": 10,
      "outputs": [
        {
          "output_type": "stream",
          "name": "stdout",
          "text": [
            "even\n",
            "odd\n",
            "even\n",
            "odd\n",
            "even\n",
            "odd\n",
            "even\n",
            "odd\n",
            "even\n",
            "odd\n"
          ]
        }
      ]
    },
    {
      "cell_type": "markdown",
      "source": [
        "Write the helper function print_divisors(num), which takes in a number and prints all of its divisors (all the numbers from 1 to num inclusive that num can be cleanly divided by (there is no remainder to the division). Don't forget to call your function in main()!\n",
        "\n",
        "Here's a sample run (user input is in blue):\n",
        "\n",
        "Enter a number: 12 Here are the divisors of 12 1 2 3 4 6 12"
      ],
      "metadata": {
        "id": "l_FfuHN-GU-N"
      }
    },
    {
      "cell_type": "code",
      "source": [
        "def print_divisors(num):\n",
        "    print(f\"Here are the divisors of {num}\")\n",
        "    for i in range(1, num + 1):\n",
        "        if num % i == 0:\n",
        "            print(i, end=\" \")\n",
        "    print()\n",
        "\n",
        "def main():\n",
        "    num = int(input(\"Enter a number: \"))\n",
        "    print_divisors(num)\n",
        "\n",
        "if __name__ == \"__main__\":\n",
        "    main()\n"
      ],
      "metadata": {
        "colab": {
          "base_uri": "https://localhost:8080/"
        },
        "id": "1y0FP77nGWEk",
        "outputId": "bc5ad561-1ac4-44c6-9096-274ce6ac9cca"
      },
      "execution_count": 11,
      "outputs": [
        {
          "output_type": "stream",
          "name": "stdout",
          "text": [
            "Enter a number: 4\n",
            "Here are the divisors of 4\n",
            "1 2 4 \n"
          ]
        }
      ]
    },
    {
      "cell_type": "markdown",
      "source": [
        "Fill out print_multiple(message, repeats), which takes as parameters a string message to print, and an integer repeats number of times to print message. We've written the main() function for you, which prompts the user for a message and a number of repeats.\n",
        "\n",
        "Here's a sample run of the program (user input is in blue):\n",
        "\n",
        "Please type a message: Hello! Enter a number of times to repeat your message: 6 Hello! Hello! Hello! Hello! Hello! Hello!"
      ],
      "metadata": {
        "id": "1OdpHJsjGjfF"
      }
    },
    {
      "cell_type": "code",
      "source": [
        "def print_multiple(message, repeats):\n",
        "    for _ in range(repeats):\n",
        "        print(message)\n",
        "\n",
        "def main():\n",
        "    message = input(\"Please type a message: \")\n",
        "    repeats = int(input(\"Enter a number of times to repeat your message: \"))\n",
        "    print_multiple(message, repeats)\n",
        "\n",
        "if __name__ == \"__main__\":\n",
        "    main()"
      ],
      "metadata": {
        "colab": {
          "base_uri": "https://localhost:8080/"
        },
        "id": "A5ICEvhNGkj0",
        "outputId": "d6dcc2c0-d7dc-4ace-93f8-901d6f0d533c"
      },
      "execution_count": 12,
      "outputs": [
        {
          "output_type": "stream",
          "name": "stdout",
          "text": [
            "Please type a message: 3\n",
            "Enter a number of times to repeat your message: 2\n",
            "3\n",
            "3\n"
          ]
        }
      ]
    },
    {
      "cell_type": "markdown",
      "source": [
        "Implement the helper function make_sentence(word, part_of_speech) which will take a string word and an integer part_of_speech as parameters and, depending on the part of speech, place the word into one of three sentence templates (or one from your imagination!):\n",
        "\n",
        "If part_of_speech is 0, we will assume the word is a noun and use the template: \"I am excited to add this ____ to my vast collection of them!\"\n",
        "\n",
        "If part_of_speech is 1, we will assume the word is a verb use the template: \"It's so nice outside today it makes me want to ____!\"\n",
        "\n",
        "If part_of_speech is 2, we will assume the word is an adjective and use the template: \"Looking out my window, the sky is big and ____!\" make_sentence(word, part_of_speech) should not return anything, just print the correct sentence with the word filled in the blank.\n",
        "\n",
        "Here's a sample run of the program (user input is in blue):\n",
        "\n",
        "Please type a noun, verb, or adjective: groovy Is this a noun, verb, or adjective? Type 0 for noun, 1 for verb, 2 for adjective: 2 Looking out my window, the sky is big and groovy!"
      ],
      "metadata": {
        "id": "MBRAqPCPG2c0"
      }
    },
    {
      "cell_type": "code",
      "source": [
        "def make_sentence(word, part_of_speech):\n",
        "    if part_of_speech == 0:\n",
        "        print(f\"I am excited to add this {word} to my vast collection of them!\")\n",
        "    elif part_of_speech == 1:\n",
        "        print(f\"It's so nice outside today it makes me want to {word}!\")\n",
        "    elif part_of_speech == 2:\n",
        "        print(f\"Looking out my window, the sky is big and {word}!\")\n",
        "    else:\n",
        "        print(\"Invalid input. Please enter 0 for noun, 1 for verb, or 2 for adjective.\")\n",
        "\n",
        "def main():\n",
        "    word = input(\"Please type a noun, verb, or adjective: \")\n",
        "    part_of_speech = int(input(\"Is this a noun, verb, or adjective? Type 0 for noun, 1 for verb, 2 for adjective: \"))\n",
        "    make_sentence(word, part_of_speech)\n",
        "\n",
        "if __name__ == \"__main__\":\n",
        "    main()"
      ],
      "metadata": {
        "colab": {
          "base_uri": "https://localhost:8080/"
        },
        "id": "4Eq4oGTpG3Wm",
        "outputId": "c40b4c4e-260c-4a4f-f430-ad48f237c291"
      },
      "execution_count": 13,
      "outputs": [
        {
          "output_type": "stream",
          "name": "stdout",
          "text": [
            "Please type a noun, verb, or adjective: sana\n",
            "Is this a noun, verb, or adjective? Type 0 for noun, 1 for verb, 2 for adjective: 0\n",
            "I am excited to add this sana to my vast collection of them!\n"
          ]
        }
      ]
    },
    {
      "cell_type": "markdown",
      "source": [
        "Write a function called print_ones_digit , which takes as a parameter an integer num and prints its ones digit. The modulo (remainder) operator, %, should be helpful to you here. Call your function from main()!\n",
        "\n",
        "Here's a sample run (user input is in blue):\n",
        "\n",
        "Enter a number: 42 The ones digit is 2"
      ],
      "metadata": {
        "id": "RsgVMwVxHJSb"
      }
    },
    {
      "cell_type": "code",
      "source": [
        "def print_ones_digit(num):\n",
        "    ones_digit = num % 10\n",
        "    print(f\"The ones digit is {ones_digit}\")\n",
        "\n",
        "def main():\n",
        "    num = int(input(\"Enter a number: \"))\n",
        "    print_ones_digit(num)\n",
        "\n",
        "if __name__ == \"__main__\":\n",
        "    main()\n"
      ],
      "metadata": {
        "colab": {
          "base_uri": "https://localhost:8080/"
        },
        "id": "qpuIDJySHKO3",
        "outputId": "d9b4e690-cacb-431b-8eb2-dda6696eef35"
      },
      "execution_count": 14,
      "outputs": [
        {
          "output_type": "stream",
          "name": "stdout",
          "text": [
            "Enter a number: 3\n",
            "The ones digit is 3\n"
          ]
        }
      ]
    }
  ]
}